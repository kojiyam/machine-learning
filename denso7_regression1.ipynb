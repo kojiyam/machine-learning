{
  "nbformat": 4,
  "nbformat_minor": 0,
  "metadata": {
    "colab": {
      "name": "denso7_regression1.ipynb",
      "provenance": [],
      "include_colab_link": true
    },
    "kernelspec": {
      "name": "python3",
      "display_name": "Python 3"
    }
  },
  "cells": [
    {
      "cell_type": "markdown",
      "metadata": {
        "id": "view-in-github",
        "colab_type": "text"
      },
      "source": [
        "<a href=\"https://colab.research.google.com/github/kojiyam/machine-learning/blob/main/denso7_regression1.ipynb\" target=\"_parent\"><img src=\"https://colab.research.google.com/assets/colab-badge.svg\" alt=\"Open In Colab\"/></a>"
      ]
    },
    {
      "cell_type": "markdown",
      "metadata": {
        "id": "bUEl9qj2TcTO"
      },
      "source": [
        "<h1><strong>ニューラルネットワークによる機械学習をあえて用いた線形回帰</strong></h1>\n",
        "\n",
        "ニューラルネットワークを用いた教師あり学習・回帰問題について，機械学習フレームワーク<strong>PyTorch</strong>を用いた，極端に簡単な例を示す．\n",
        "\n",
        "文章も含め，以下のページに記載のプログラムを流用させて頂いた上で，さらに簡単にしたものである．\n",
        "\n",
        "<a href=\"https://axa.biopapyrus.jp/deep-learning/pytorch/regression.html\">PyTroch で実装したニューラルネットワークで簡単な回帰問題を解く --- 回帰（1 特徴量）</a>"
      ]
    },
    {
      "cell_type": "code",
      "metadata": {
        "id": "HMURX6xpLW97"
      },
      "source": [
        "#@title 一般的ライブラリ\n",
        "import numpy as np\n",
        "np.random.seed(1)\n",
        "import matplotlib.pyplot as plt\n",
        "plt.style.use('dark_background') # Dark-mode\n",
        "from tqdm import tqdm # Progress bar"
      ],
      "execution_count": 1,
      "outputs": []
    },
    {
      "cell_type": "code",
      "metadata": {
        "id": "4nmBF2qeswOQ",
        "colab": {
          "base_uri": "https://localhost:8080/"
        },
        "outputId": "1e2bd32d-0115-4d82-d541-41f159bc2cde"
      },
      "source": [
        "#@title 機械学習フレームワーク PiTorch\n",
        "import torch\n",
        "import torch.nn.functional\n",
        "import torch.utils.data\n",
        "torch.manual_seed(1)"
      ],
      "execution_count": 2,
      "outputs": [
        {
          "output_type": "execute_result",
          "data": {
            "text/plain": [
              "<torch._C.Generator at 0x79f163fc6150>"
            ]
          },
          "metadata": {},
          "execution_count": 2
        }
      ]
    },
    {
      "cell_type": "markdown",
      "metadata": {
        "id": "mb6eJC_k45lO"
      },
      "source": [
        "## <strong>1. 教師データ生成</strong>\n",
        "\n",
        "$x$ は $(0,10)$の間の一様分布\n",
        "\n",
        "$ y = 2x + 3 + \\epsilon ,\\ \\epsilon \\sim \\mathcal{N}(0,1)$\n",
        "\n",
        "$ y= 2x+3$に標準正規分布に従う雑音項を加えた\n",
        "$ (x_i,y_i) $ を生成"
      ]
    },
    {
      "cell_type": "code",
      "metadata": {
        "id": "x-mXwmlZLZif"
      },
      "source": [
        "#@title 教師データ生成\n",
        "x = np.random.uniform(low=0, high=10, size=100)\n",
        "y = 2 * x + 3 + np.random.randn(100)"
      ],
      "execution_count": 3,
      "outputs": []
    },
    {
      "cell_type": "code",
      "metadata": {
        "id": "y4Ut85s3R2n8",
        "colab": {
          "base_uri": "https://localhost:8080/",
          "height": 449
        },
        "outputId": "5ec901fa-1a41-4065-f30b-3bc93d200e74"
      },
      "source": [
        "#@title 図描画\n",
        "fig = plt.figure()\n",
        "ax = fig.add_subplot()\n",
        "ax.set_xlabel('$x$')\n",
        "ax.set_ylabel('$y$')\n",
        "ax.scatter(x, y, alpha=0.6)\n",
        "fig.show()"
      ],
      "execution_count": 15,
      "outputs": [
        {
          "output_type": "display_data",
          "data": {
            "text/plain": [
              "<Figure size 640x480 with 1 Axes>"
            ],
            "image/png": "[encoded data removed]"
          },
          "metadata": {}
        }
      ]
    },
    {
      "cell_type": "markdown",
      "metadata": {
        "id": "khbdm6R6hhI-"
      },
      "source": [
        "機械学習では以下のように呼ぶ <br>\n",
        "$(x_i)$: Inputs <br>\n",
        "$(y_i)$: Labels, outputs <br>\n",
        "$f : x \\mapsto y $: Model <br>\n",
        "$(x_i, y_i)$: Labeled data，教師データ"
      ]
    },
    {
      "cell_type": "markdown",
      "metadata": {
        "id": "NyQDhOrQtq3J"
      },
      "source": [
        "## <strong>2. 回帰問題</strong>\n",
        "\n",
        "教師データ $(x_i, y_i)$ による，モデル $f$ の訓練を行う．\n",
        "\n",
        "ニューラルネットワークによる回帰とは，モデル $f$ としてニューラルネットワークで表される関数を用い，ニューラルネットワークのパラメータを調整するということである．"
      ]
    },
    {
      "cell_type": "markdown",
      "metadata": {
        "id": "eFNwVdzyuIFm"
      },
      "source": [
        "### 2.1 PyTorchによるニューラルネットワークの定義"
      ]
    },
    {
      "cell_type": "code",
      "metadata": {
        "id": "E1qHPP28R6Q3"
      },
      "source": [
        "class Net(torch.nn.Module):\n",
        "  def __init__(self):\n",
        "    super(Net, self).__init__()\n",
        "    self.fc1 = torch.nn.Linear(1, 1)\n",
        "  def forward(self, x):\n",
        "    x = self.fc1(x)\n",
        "    return x\n",
        "\n",
        "ｆ = Net()"
      ],
      "execution_count": 5,
      "outputs": []
    },
    {
      "cell_type": "markdown",
      "metadata": {
        "id": "DA5EpSwGuT3g"
      },
      "source": [
        "`torch.nn.Linear(1, 1)` は， 入力と出力の次元が両方 1 のニューラルネットワークのレイヤを表す．<br>\n",
        "このレイヤは，後述の活性化関数を $\\phi$ として次式を表す．<br>\n",
        "$y=\\phi(wx+b)$\n",
        "\n",
        "`x = self.fc1(x)` は活性化関数が $\\phi(z)=z$ であることを表す． したがってこのレイヤは次式を表す．<br>\n",
        "$y=wx+b$\n",
        "\n",
        "このモデル $f$，すなわちニューラルネットワークを訓練することは， $w$ と $b$ の推定値を定めることに他ならない\n",
        "\n",
        "なお，このニューラルネットワークは，入力層，出力層に加えて，1層の隠れ層を持つ，単純パーセプトロンと呼ばれるものである．\n",
        "\n",
        "隠れ層の数や，隠れ層のニューロンの数を増やせば（ディープニューラルネットワーク），モデル，すなわち関数 $f$ の表現力が高まる．\n",
        "これを使うのが<strong>深層学習</strong>である．\n"
      ]
    },
    {
      "cell_type": "markdown",
      "metadata": {
        "id": "SrlDcITg0jDe"
      },
      "source": [
        "## <strong>3. 教師データによる，ニューラルネットワークの訓練</strong>"
      ]
    },
    {
      "cell_type": "markdown",
      "metadata": {
        "id": "2uzTsf8XzdiB"
      },
      "source": [
        "OptimizerはStochastic gradient descent，損失関数を MSE とする"
      ]
    },
    {
      "cell_type": "code",
      "metadata": {
        "id": "iDhOc6Wy8d19"
      },
      "source": [
        "#@title PiTorchを使うための準備\n",
        "x_tensor = torch.from_numpy(x.reshape(-1, 1)).float()\n",
        "y_tensor = torch.from_numpy(y.reshape(-1, 1)).float()\n",
        "epoch_loss = []"
      ],
      "execution_count": 6,
      "outputs": []
    },
    {
      "cell_type": "markdown",
      "metadata": {
        "id": "XvjUcDuWj7yc"
      },
      "source": [
        "OptimizerはStochastic gradient descent，損失関数を MSE とする"
      ]
    },
    {
      "cell_type": "code",
      "metadata": {
        "id": "kf3kGXvrj22w"
      },
      "source": [
        "#@title Optimizer, 損失関数の設定\n",
        "optimizer = torch.optim.SGD(ｆ.parameters(), lr=0.01)\n",
        "criterion = torch.nn.MSELoss()"
      ],
      "execution_count": 7,
      "outputs": []
    },
    {
      "cell_type": "code",
      "metadata": {
        "id": "MgAXJhlDR8a8",
        "colab": {
          "base_uri": "https://localhost:8080/"
        },
        "outputId": "4bba9d8d-5aa1-4a2b-c139-ed482818f62d"
      },
      "source": [
        "#@title 訓練\n",
        "ｆ.train()\n",
        "num_epochs = 1000\n",
        "for epoch in tqdm(range(num_epochs)):\n",
        "  loss = criterion(ｆ(x_tensor), y_tensor)\n",
        "  optimizer.zero_grad()\n",
        "  loss.backward()\n",
        "  optimizer.step()\n",
        "  epoch_loss.append(loss.data.numpy().tolist())"
      ],
      "execution_count": 8,
      "outputs": [
        {
          "output_type": "stream",
          "name": "stderr",
          "text": [
            "100%|██████████| 1000/1000 [00:01<00:00, 502.47it/s]\n"
          ]
        }
      ]
    },
    {
      "cell_type": "markdown",
      "metadata": {
        "id": "GqCIF8uu0Uly"
      },
      "source": [
        "訓練時における損失 `epoch_loss` は、学習の収束状況を表す．"
      ]
    },
    {
      "cell_type": "code",
      "metadata": {
        "id": "J-x4mGKmSLjD",
        "colab": {
          "base_uri": "https://localhost:8080/",
          "height": 449
        },
        "outputId": "06a2ad03-16a3-4647-d020-a18d834c5f7b"
      },
      "source": [
        "#@title 図描画\n",
        "fig = plt.figure()\n",
        "ax = fig.add_subplot()\n",
        "ax.set_yscale('log')\n",
        "ax.set_xlabel('#epoch')\n",
        "ax.set_ylabel('loss')\n",
        "ax.plot(list(range(len(epoch_loss))), epoch_loss,\n",
        "        linewidth=2)\n",
        "fig.show()"
      ],
      "execution_count": 9,
      "outputs": [
        {
          "output_type": "display_data",
          "data": {
            "text/plain": [
              "<Figure size 640x480 with 1 Axes>"
            ],
            "image/png": "[encoded data removed]"
          },
          "metadata": {}
        }
      ]
    },
    {
      "cell_type": "markdown",
      "metadata": {
        "id": "lzRX1DwO0YZv"
      },
      "source": [
        "## <strong>4. ニューラルネットワークによる推定</strong>\n",
        "ニューラルネットワークによる回帰曲線を重ねて描く"
      ]
    },
    {
      "cell_type": "code",
      "metadata": {
        "id": "5m7bdvEWSNgI"
      },
      "source": [
        "#@title 推定\n",
        "f.eval()\n",
        "\n",
        "# テスト入力\n",
        "# [0,10]の中の等間隔な100点\n",
        "x_new = np.linspace(0, 10, 100)\n",
        "x_new_tensor = torch.from_numpy(x_new.reshape(-1, 1)).float()\n",
        "\n",
        "# テスト入力に対する推定値\n",
        "with torch.no_grad():\n",
        "    y_pred_tensor = f(x_new_tensor)\n",
        "y_pred = y_pred_tensor.data.numpy()\n"
      ],
      "execution_count": 10,
      "outputs": []
    },
    {
      "cell_type": "code",
      "metadata": {
        "id": "bl4_yUHvZLdi",
        "colab": {
          "base_uri": "https://localhost:8080/",
          "height": 430
        },
        "outputId": "834be18c-7c28-4cce-e763-8b052f2d60d6"
      },
      "source": [
        "#@title 図描画\n",
        "fig = plt.figure()\n",
        "ax = fig.add_subplot()\n",
        "ax.scatter(x, y, alpha=0.6)\n",
        "ax.plot(x_new, y_pred, c='tab:orange', linewidth=3)\n",
        "fig.show()"
      ],
      "execution_count": 11,
      "outputs": [
        {
          "output_type": "display_data",
          "data": {
            "text/plain": [
              "<Figure size 640x480 with 1 Axes>"
            ],
            "image/png": "[encoded data removed]"
          },
          "metadata": {}
        }
      ]
    },
    {
      "cell_type": "markdown",
      "metadata": {
        "id": "vnDb-2dW0jZx"
      },
      "source": [
        "パラメータを表示"
      ]
    },
    {
      "cell_type": "markdown",
      "metadata": {
        "id": "eOf025qk6nv3"
      },
      "source": [
        "$ y = w x + b $ の $w$．2が正解"
      ]
    },
    {
      "cell_type": "code",
      "metadata": {
        "id": "3pCiw7Rm1cxg",
        "colab": {
          "base_uri": "https://localhost:8080/"
        },
        "outputId": "103322a6-2382-4ebc-d054-baaa1392ddaa"
      },
      "source": [
        "print(f.ｆｃ1.weight)"
      ],
      "execution_count": 12,
      "outputs": [
        {
          "output_type": "stream",
          "name": "stdout",
          "text": [
            "Parameter containing:\n",
            "tensor([[1.9711]], requires_grad=True)\n"
          ]
        }
      ]
    },
    {
      "cell_type": "markdown",
      "metadata": {
        "id": "Wi8P_hPm6uWn"
      },
      "source": [
        "$ y = w x + b $ の $b$．3が正解"
      ]
    },
    {
      "cell_type": "code",
      "metadata": {
        "id": "_np1jnXh6lSY",
        "colab": {
          "base_uri": "https://localhost:8080/"
        },
        "outputId": "d8149695-6e4b-4e8b-d58f-1da572829fd1"
      },
      "source": [
        "print(f.ｆｃ1.bias)"
      ],
      "execution_count": 13,
      "outputs": [
        {
          "output_type": "stream",
          "name": "stdout",
          "text": [
            "Parameter containing:\n",
            "tensor([3.2195], requires_grad=True)\n"
          ]
        }
      ]
    },
    {
      "cell_type": "code",
      "metadata": {
        "id": "iyy4ueLh05BV"
      },
      "source": [
        "# パラメータ閲覧\n",
        "# https://qiita.com/mathlive/items/d9f31f8538e20a102e14\n",
        "# print(net)\n",
        "# for param in net.parameters():\n",
        "#     print(param)"
      ],
      "execution_count": 14,
      "outputs": []
    },
    {
      "cell_type": "code",
      "metadata": {
        "id": "gfAjTGUW85xV"
      },
      "source": [],
      "execution_count": 14,
      "outputs": []
    }
  ]
}